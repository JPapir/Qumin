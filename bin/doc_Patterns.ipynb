{
 "cells": [
  {
   "cell_type": "markdown",
   "metadata": {},
   "source": [
    "<img src='qumin.png' alt='Quantitative Modeling of inflection' >"
   ]
  },
  {
   "cell_type": "markdown",
   "metadata": {},
   "source": [
    "# Alternation patterns"
   ]
  },
  {
   "cell_type": "markdown",
   "metadata": {},
   "source": [
    "We take inflectional behaviour to be represented by alternation patterns. The biggest issue  in finding a system of alternation patterns from a paradigm lies in the implicit segmentation of forms : qualifying the change between two forms requires to determine what are the constant and the variable elements in each form.\n",
    "\n",
    "We use two classes to represent patterns. The `patterns.Pattern` class models an alternation pattern between a number of forms. Its `patterns.BinaryPattern` subclass specializes in binary alternation patterns.\n",
    "\n",
    "\n",
    "First, we load the `Segments`:"
   ]
  },
  {
   "cell_type": "code",
   "execution_count": 1,
   "metadata": {
    "ExecuteTime": {
     "end_time": "2017-02-06T13:15:38.448018",
     "start_time": "2017-02-06T13:15:36.762002"
    }
   },
   "outputs": [
    {
     "name": "stderr",
     "output_type": "stream",
     "text": [
      "/home/sacha/.local/lib/python3.5/site-packages/matplotlib/__init__.py:913: UserWarning: axes.color_cycle is deprecated and replaced with axes.prop_cycle; please use the latter.\n",
      "  warnings.warn(self.msg_depr % (key, alt_key))\n",
      "/home/sacha/These/qumin/bin/lattice/lattice.py:14: UserWarning: Warning: mpld3 could not be imported. No html export possible.\n",
      "  warnings.warn(\"Warning: mpld3 could not be imported. No html export possible.\")\n"
     ]
    },
    {
     "name": "stdout",
     "output_type": "stream",
     "text": [
      "Reading table\n",
      "Aliasing multi-chars segments\n",
      "Normalizing identical segments\n"
     ]
    }
   ],
   "source": [
    "from representations import patterns, segments, restore, alignment, generalize\n",
    "import pandas as pd\n",
    "import warnings\n",
    "warnings.filterwarnings('ignore')\n",
    "from IPython.display import HTML,Pretty\n",
    "ipy_HTML = HTML\n",
    "HTML = lambda x : ipy_HTML('<center>'+x+'</center>')\n",
    "features_file_name = \"../Data/Vlexique/frenchipa.csv\"\n",
    "segments.initialize(features_file_name,sep=\"\\t\")\n",
    "alignment.PHON_INS_COST = alignment.get_mean_cost()"
   ]
  },
  {
   "cell_type": "markdown",
   "metadata": {},
   "source": [
    "## From alignment to pattern"
   ]
  },
  {
   "cell_type": "markdown",
   "metadata": {},
   "source": [
    "We will play around with two present forms of french verbal paradigm (note that below we note the two-character segment 'ɔ̃ ' as 'õ'):"
   ]
  },
  {
   "cell_type": "code",
   "execution_count": 2,
   "metadata": {
    "ExecuteTime": {
     "end_time": "2017-02-06T13:15:38.453155",
     "start_time": "2017-02-06T13:15:38.449601"
    },
    "collapsed": true
   },
   "outputs": [],
   "source": [
    "cells  = [ 'prs.1.sg' , 'prs.2.sg' , 'prs.3.sg' , 'prs.1.pl'  , 'prs.2.pl'   , 'prs.3.pl']\n",
    "amener = [  'amEn'    ,   'amEn'   ,   'amEn'   ,    'amØnõ',   'amØnE'    ,    'amEn'    ]\n",
    "valeter= [  'valEt'   ,   'valEt'  ,   'valEt'  ,   'valØtõ',   'valØtE'   ,   'valEt'   ]"
   ]
  },
  {
   "cell_type": "markdown",
   "metadata": {},
   "source": [
    "To find what is constant or alternating material in a serie of forms, we first need to align the characters in the form. We provide four alignment functions, which effects are depicted below on the alternation amEn ~ amənõ. The function `align_levenshtein` and `align_phono` can only align two forms together (they relies on edit distances) and return a list of best alignments. The others can align an arbitrary number of forms but return only one alignment."
   ]
  },
  {
   "cell_type": "code",
   "execution_count": 3,
   "metadata": {
    "ExecuteTime": {
     "end_time": "2017-02-06T13:15:38.479225",
     "start_time": "2017-02-06T13:15:38.454680"
    }
   },
   "outputs": [
    {
     "name": "stdout",
     "output_type": "stream",
     "text": [
      "align_left when we are looking for a suffix:\n",
      "\t [('a', 'a'), ('m', 'm'), ('E', 'Ø'), ('n', 'n'), ('', 'õ')]\n",
      "align_right is ideal when we are looking for a prefix:\n",
      "\t [('', 'a'), ('a', 'm'), ('m', 'Ø'), ('E', 'n'), ('n', 'õ')]\n",
      "align_baseline re-implements the strategy from Albright & Hayes (2002):\n",
      "\t  [('a', 'a'), ('m', 'm'), ('E', 'Ø'), ('n', 'n'), ('', 'õ')]\n",
      "align_phono attempts to find the best alignment based on phonological similarity:\n",
      "\t [[('a', 'a'), ('m', 'm'), ('E', 'Ø'), ('n', 'n'), ('', 'õ')]]\n",
      "align_levenshtein attempts to find the best alignment based on levenshtein distances:\n",
      "\t [[('a', 'a'), ('m', 'm'), ('E', ''), ('', 'Ø'), ('n', 'n'), ('', 'õ')], [('a', 'a'), ('m', 'm'), ('', 'Ø'), ('E', ''), ('n', 'n'), ('', 'õ')]]\n"
     ]
    }
   ],
   "source": [
    "print(\"align_left when we are looking for a suffix:\\n\\t\",alignment.align_left(amener[0],amener[3]))\n",
    "print(\"align_right is ideal when we are looking for a prefix:\\n\\t\",alignment.align_right(amener[0],amener[3]))\n",
    "print(\"align_baseline re-implements the strategy from Albright & Hayes (2002):\\n\\t \", alignment.align_baseline(amener[0],amener[3]))\n",
    "print(\"align_phono attempts to find the best alignment based on phonological similarity:\\n\\t\" ,alignment.align_phono(amener[0],amener[3]))\n",
    "print(\"align_levenshtein attempts to find the best alignment based on levenshtein distances:\\n\\t\" ,alignment.align_levenshtein(amener[0],amener[3]))"
   ]
  },
  {
   "cell_type": "markdown",
   "metadata": {},
   "source": [
    "By default, patterns are left aligned, which works for the current data. They can take any number of forms:"
   ]
  },
  {
   "cell_type": "code",
   "execution_count": 4,
   "metadata": {
    "ExecuteTime": {
     "end_time": "2017-02-06T13:15:38.540908",
     "start_time": "2017-02-06T13:15:38.514318"
    }
   },
   "outputs": [
    {
     "name": "stdout",
     "output_type": "stream",
     "text": [
      "E_ ⇌ E_ ⇌ E_ ⇌ Ø_ɔ̃ ⇌ Ø_E ⇌ E_ / am_n_\n",
      "E_ ⇌ E_ ⇌ E_ ⇌ Ø_ɔ̃ ⇌ Ø_E ⇌ E_ / val_t_\n"
     ]
    }
   ],
   "source": [
    "p1 = patterns.Pattern(cells,amener)\n",
    "print(p1)\n",
    "p2 = patterns.Pattern(cells,valeter)\n",
    "print(p2)"
   ]
  },
  {
   "cell_type": "markdown",
   "metadata": {},
   "source": [
    "We can also make a pattern from already aligned forms (in this particular case, the result is the same): "
   ]
  },
  {
   "cell_type": "code",
   "execution_count": 5,
   "metadata": {
    "ExecuteTime": {
     "end_time": "2017-02-06T13:15:38.569163",
     "start_time": "2017-02-06T13:15:38.543101"
    }
   },
   "outputs": [
    {
     "name": "stdout",
     "output_type": "stream",
     "text": [
      "E_ ⇌ E_ ⇌ E_ ⇌ Ø_ɔ̃ ⇌ Ø_E ⇌ E_ / am_n_\n",
      "E_ ⇌ E_ ⇌ E_ ⇌ Ø_ɔ̃ ⇌ Ø_E ⇌ E_ / val_t_\n"
     ]
    }
   ],
   "source": [
    "p1 = patterns.Pattern(cells,alignment.align_baseline(*amener),aligned=True)\n",
    "print(p1)\n",
    "p2 = patterns.Pattern(cells,alignment.align_baseline(*valeter),aligned=True)\n",
    "print(p2)"
   ]
  },
  {
   "cell_type": "markdown",
   "metadata": {},
   "source": [
    "A `Pattern` can also be represented as a list of alternating material, i.e. forms where the constants have been replaced by \"…\". This is used by the [clustering experiments](../doc/Clusteringipynb.html)."
   ]
  },
  {
   "cell_type": "code",
   "execution_count": 6,
   "metadata": {
    "ExecuteTime": {
     "end_time": "2017-02-06T13:15:38.594756",
     "start_time": "2017-02-06T13:15:38.573226"
    }
   },
   "outputs": [
    {
     "data": {
      "text/plain": [
       "'…E… ⇌ …E… ⇌ …E… ⇌ …Ø…ɔ̃ ⇌ …Ø…E ⇌ …E…'"
      ]
     },
     "execution_count": 6,
     "metadata": {},
     "output_type": "execute_result"
    }
   ],
   "source": [
    "p2.to_alt()"
   ]
  },
  {
   "cell_type": "markdown",
   "metadata": {},
   "source": [
    "## Binary alternation  patterns"
   ]
  },
  {
   "cell_type": "markdown",
   "metadata": {},
   "source": [
    "`BinaryPattern`s are `Patterns` over only two forms. Two `Pattern`s with identical alternation but different contexts can be merged by generalising the contexts. Applying the `Pattern` to one of its forms produces the second forms."
   ]
  },
  {
   "cell_type": "code",
   "execution_count": 7,
   "metadata": {
    "ExecuteTime": {
     "end_time": "2017-02-06T13:15:38.619297",
     "start_time": "2017-02-06T13:15:38.597453"
    }
   },
   "outputs": [
    {
     "name": "stdout",
     "output_type": "stream",
     "text": [
      "['prs.3.sg', 'prs.1.pl']\n",
      "['valEt', 'valØtõ']\n",
      "['amEn', 'amØnõ']\n"
     ]
    }
   ],
   "source": [
    "cells = cells[2:4]\n",
    "forms = valeter[2:4]\n",
    "forms2 = amener[2:4]\n",
    "print(cells)\n",
    "print(forms)\n",
    "print(forms2)"
   ]
  },
  {
   "cell_type": "markdown",
   "metadata": {},
   "source": [
    "Creating a `Pattern` over two forms always returns a `BinaryPattern`:"
   ]
  },
  {
   "cell_type": "code",
   "execution_count": 8,
   "metadata": {
    "ExecuteTime": {
     "end_time": "2017-02-06T13:15:38.650161",
     "start_time": "2017-02-06T13:15:38.621998"
    }
   },
   "outputs": [
    {
     "name": "stdout",
     "output_type": "stream",
     "text": [
      "E_ ⇌ Ø_ɔ̃ / val_t_  is of type  <class 'representations.patterns.BinaryPattern'>\n",
      "E_ ⇌ Ø_ɔ̃ / am_n_  is of type  <class 'representations.patterns.BinaryPattern'>\n"
     ]
    }
   ],
   "source": [
    "r1 = patterns.Pattern(cells,forms)\n",
    "print(r1, \" is of type \",type(r1))\n",
    "r2 = patterns.Pattern(cells,forms2)\n",
    "print(r2, \" is of type \",type(r2))\n",
    "r1.lexemes = [\"amener\"]\n",
    "r2.lexemes = [\"valeter\"]"
   ]
  },
  {
   "cell_type": "markdown",
   "metadata": {},
   "source": [
    "### Generalizing contexts"
   ]
  },
  {
   "cell_type": "markdown",
   "metadata": {},
   "source": [
    "Two rules with identical alternation can be combined by generalizing their context. The context will now be encoded using natural classes and quantifiers. "
   ]
  },
  {
   "cell_type": "code",
   "execution_count": 9,
   "metadata": {
    "ExecuteTime": {
     "end_time": "2017-02-06T13:15:38.679125",
     "start_time": "2017-02-06T13:15:38.652937"
    }
   },
   "outputs": [
    {
     "name": "stdout",
     "output_type": "stream",
     "text": [
      "E_ ⇌ Ø_ɔ̃ / v?a[lmn]_[dnt]_\n"
     ]
    }
   ],
   "source": [
    "r = generalize.generalize_patterns([r1,r2])\n",
    "print(r)"
   ]
  },
  {
   "cell_type": "markdown",
   "metadata": {},
   "source": [
    "Given enough different rules with the same pattern, the generalization becomes adequately generic:"
   ]
  },
  {
   "cell_type": "code",
   "execution_count": 10,
   "metadata": {
    "ExecuteTime": {
     "end_time": "2017-02-06T13:36:48.834150",
     "start_time": "2017-02-06T13:36:48.818320"
    }
   },
   "outputs": [
    {
     "name": "stdout",
     "output_type": "stream",
     "text": [
      "Merging patterns:\n",
      "E_ ⇌ Ø_ɔ̃ / val_t_\n",
      "E_ ⇌ Ø_ɔ̃ / am_n_\n",
      "E_ ⇌ Ø_ɔ̃ / p_l_\n",
      "E_ ⇌ Ø_ɔ̃ / ʒ_l_\n",
      "E_ ⇌ Ø_ɔ̃ / pʁOm_n_\n",
      "E_ ⇌ Ø_ɔ̃ / s_m_\n",
      "E_ ⇌ Ø_ɔ̃ / l_v_\n",
      "E_ ⇌ Ø_ɔ̃ / p_z_\n",
      "E_ ⇌ Ø_ɔ̃ / s_vʁ_\n",
      "\n",
      "Generalized rule: E_ ⇌ Ø_ɔ̃ / [-nas -haut]*[bdflmnpstvzɲʃʒ]_[bdflmnpstvzʁ]+_\n"
     ]
    }
   ],
   "source": [
    "formlist = [(\"pEl\",\"pØlõ\"),\n",
    "         (\"ʒEl\",\"ʒØlõ\"),\n",
    "         (\"pʁOmEn\",\"pʁOmØnõ\"),\n",
    "         (\"sEm\",\"sØmõ\"),\n",
    "         (\"lEv\",\"lØvõ\"),\n",
    "         (\"pEz\",\"pØzõ\"),\n",
    "         (\"sEvʁ\",\"sØvʁõ\")]\n",
    "pats = [r1,r2] + [patterns.Pattern(cells,forms) for forms in formlist]\n",
    "print(\"Merging patterns:\")\n",
    "for p in pats:\n",
    "    print(p)\n",
    "print()\n",
    "r = generalize.generalize_patterns(pats)\n",
    "    \n",
    "print(\"Generalized rule:\",r)"
   ]
  },
  {
   "cell_type": "markdown",
   "metadata": {},
   "source": [
    "The function `str` converts the pattern to a format where the context is expressed in the shortest way possible, whether natural classes of segments have to be written as features (\"[-nas]\"), as chars (\"[bdflmnpstvzɲʃʒ]\") or as a shorthand (\"C\"). The `repr` function provides a more explicit but longer representation, always using chars. One can re-create a Pattern object from this string:"
   ]
  },
  {
   "cell_type": "code",
   "execution_count": 11,
   "metadata": {
    "ExecuteTime": {
     "end_time": "2017-02-06T13:36:49.821821",
     "start_time": "2017-02-06T13:36:49.818423"
    }
   },
   "outputs": [
    {
     "name": "stdout",
     "output_type": "stream",
     "text": [
      "repr: E_ ⇌ Ø_ɔ̃ / [EOabdflpstvzØʁ]*[bdflmnpstvzɲʃʒ]_[bdflmnpstvzʁ]+_ <0>\n",
      "str: E_ ⇌ Ø_ɔ̃ / [-nas -haut]*[bdflmnpstvzɲʃʒ]_[bdflmnpstvzʁ]+_\n",
      "imported back:  E_ ⇌ Ø_ / [-nas -haut]*[bdflmnpstvzɲʃʒ]_[bdflmnpstvzʁ]+_\n"
     ]
    }
   ],
   "source": [
    "repr_pat = repr(r)\n",
    "print(\"repr:\",repr_pat)\n",
    "print(\"str:\",r)\n",
    "print(\"imported back: \",patterns.BinaryPattern._from_str(cells,repr_pat))"
   ]
  },
  {
   "cell_type": "markdown",
   "metadata": {},
   "source": [
    "### Applying patterns"
   ]
  },
  {
   "cell_type": "markdown",
   "metadata": {},
   "source": [
    "A pattern can be applied to a string to produce the other cell:"
   ]
  },
  {
   "cell_type": "code",
   "execution_count": 12,
   "metadata": {
    "ExecuteTime": {
     "end_time": "2017-02-06T13:15:38.812094",
     "start_time": "2017-02-06T12:15:36.872Z"
    }
   },
   "outputs": [
    {
     "name": "stdout",
     "output_type": "stream",
     "text": [
      "Applying pattern 'E_ ⇌ Ø_ɔ̃ / [-nas -haut]*[bdflmnpstvzɲʃʒ]_[bdflmnpstvzʁ]+_' to amEn produces amØnõ\n",
      "Applying pattern 'E_ ⇌ Ø_ɔ̃ / [-nas -haut]*[bdflmnpstvzɲʃʒ]_[bdflmnpstvzʁ]+_' to mEn produces mØnõ\n",
      "Applying pattern 'E_ ⇌ Ø_ɔ̃ / [-nas -haut]*[bdflmnpstvzɲʃʒ]_[bdflmnpstvzʁ]+_' to pEl produces pØlõ\n",
      "Applying pattern 'E_ ⇌ Ø_ɔ̃ / [-nas -haut]*[bdflmnpstvzɲʃʒ]_[bdflmnpstvzʁ]+_' to valEt produces valØtõ\n"
     ]
    }
   ],
   "source": [
    "forms = [\"amEn\",\"mEn\",\"pEl\",\"valEt\"]\n",
    "\n",
    "for form in forms:\n",
    "    computed_form = restore(r.apply(form,names=r.cells))\n",
    "    print(\"Applying pattern '{}' to {} produces {}\".format(r,form,computed_form))"
   ]
  },
  {
   "cell_type": "markdown",
   "metadata": {},
   "source": [
    "Of course, that is only if the pattern's context matches the form"
   ]
  },
  {
   "cell_type": "code",
   "execution_count": 13,
   "metadata": {},
   "outputs": [
    {
     "ename": "NotApplicable",
     "evalue": "The context re.compile('([EOabdflpstvzØʁ]*[bdflmnpstvzɲʃʒ])(E)([bdflmnpstvzʁ]+)()')doesn't match the form \"mange\"",
     "output_type": "error",
     "traceback": [
      "\u001b[0;31m---------------------------------------------------------------------------\u001b[0m",
      "\u001b[0;31mNotApplicable\u001b[0m                             Traceback (most recent call last)",
      "\u001b[0;32m<ipython-input-13-169f29b66ee2>\u001b[0m in \u001b[0;36m<module>\u001b[0;34m()\u001b[0m\n\u001b[1;32m      1\u001b[0m \u001b[0mverb\u001b[0m \u001b[0;34m=\u001b[0m \u001b[0;34m\"mange\"\u001b[0m\u001b[0;34m\u001b[0m\u001b[0m\n\u001b[1;32m      2\u001b[0m \u001b[0mcell\u001b[0m \u001b[0;34m=\u001b[0m \u001b[0;34m\"prs.3.sg\"\u001b[0m\u001b[0;34m\u001b[0m\u001b[0m\n\u001b[0;32m----> 3\u001b[0;31m \u001b[0mrestore\u001b[0m\u001b[0;34m(\u001b[0m\u001b[0mr\u001b[0m\u001b[0;34m.\u001b[0m\u001b[0mapply\u001b[0m\u001b[0;34m(\u001b[0m\u001b[0;34m\"mange\"\u001b[0m\u001b[0;34m,\u001b[0m\u001b[0mnames\u001b[0m\u001b[0;34m=\u001b[0m\u001b[0mr\u001b[0m\u001b[0;34m.\u001b[0m\u001b[0mcells\u001b[0m\u001b[0;34m)\u001b[0m\u001b[0;34m)\u001b[0m\u001b[0;34m\u001b[0m\u001b[0m\n\u001b[0m",
      "\u001b[0;32m/home/sacha/These/qumin/bin/representations/patterns.py\u001b[0m in \u001b[0;36mapply\u001b[0;34m(self, form, names)\u001b[0m\n\u001b[1;32m    575\u001b[0m             raise NotApplicable(\"The context {}\"\n\u001b[1;32m    576\u001b[0m                                 \u001b[0;34m\"doesn't match the form \\\"{}\\\"\"\u001b[0m\u001b[0;34m\u001b[0m\u001b[0m\n\u001b[0;32m--> 577\u001b[0;31m                                 \"\".format(self._regex[from_cell], form))\n\u001b[0m\u001b[1;32m    578\u001b[0m         \u001b[0;32mreturn\u001b[0m \u001b[0mstring\u001b[0m\u001b[0;34m\u001b[0m\u001b[0m\n\u001b[1;32m    579\u001b[0m \u001b[0;34m\u001b[0m\u001b[0m\n",
      "\u001b[0;31mNotApplicable\u001b[0m: The context re.compile('([EOabdflpstvzØʁ]*[bdflmnpstvzɲʃʒ])(E)([bdflmnpstvzʁ]+)()')doesn't match the form \"mange\""
     ]
    }
   ],
   "source": [
    "verb = \"mange\"\n",
    "cell = \"prs.3.sg\"\n",
    "restore(r.apply(\"mange\",names=r.cells))"
   ]
  },
  {
   "cell_type": "markdown",
   "metadata": {},
   "source": [
    "We can check wether a pattern is applicable :"
   ]
  },
  {
   "cell_type": "code",
   "execution_count": 14,
   "metadata": {
    "ExecuteTime": {
     "end_time": "2017-02-06T13:15:38.812712",
     "start_time": "2017-02-06T12:15:36.876Z"
    }
   },
   "outputs": [
    {
     "name": "stdout",
     "output_type": "stream",
     "text": [
      "Is E_ ⇌ Ø_ɔ̃ / [-nas -haut]*[bdflmnpstvzɲʃʒ]_[bdflmnpstvzʁ]+_ applicable to 'mange' from the cell 'prs.3.sg' ? False\n",
      "Is E_ ⇌ Ø_ɔ̃ / [-nas -haut]*[bdflmnpstvzɲʃʒ]_[bdflmnpstvzʁ]+_ applicable to 'pEl' from the cell 'prs.3.sg' ? True\n"
     ]
    }
   ],
   "source": [
    "verb = \"mange\"\n",
    "cell = \"prs.3.sg\"\n",
    "print(\"Is {} applicable to '{}' from the cell '{}' ? {}\".format(r,verb,cell,r.applicable(verb,cell)))\n",
    "verb = \"pEl\"\n",
    "print(\"Is {} applicable to '{}' from the cell '{}' ? {}\".format(r,verb,cell,r.applicable(verb,cell)))"
   ]
  },
  {
   "cell_type": "markdown",
   "metadata": {
    "ExecuteTime": {
     "end_time": "2016-11-11T02:46:09.366240",
     "start_time": "2016-11-11T02:46:09.363192"
    }
   },
   "source": [
    "## Generalizing an alternation"
   ]
  },
  {
   "cell_type": "markdown",
   "metadata": {},
   "source": [
    "A pattern's alternation can also be expressed in more general ways :"
   ]
  },
  {
   "cell_type": "code",
   "execution_count": 15,
   "metadata": {
    "ExecuteTime": {
     "end_time": "2017-02-06T13:15:38.813320",
     "start_time": "2017-02-06T12:15:36.884Z"
    }
   },
   "outputs": [
    {
     "name": "stdout",
     "output_type": "stream",
     "text": [
      "These patterns appear to have varying alternations :\n",
      "E ⇌ i / adm_\n",
      "Ø ⇌ y / Em_\n",
      "Ø ⇌ y / p_\n",
      "Ø ⇌ y / pl_\n",
      "\n",
      "But the change is similar, and we can merge them\n",
      "[EOØ] ⇌ [iuy] / [-nas -haut]*[+ant]_\n"
     ]
    }
   ],
   "source": [
    "cells = ('prs.1sg', 'pst.1sg')\n",
    "formlist = [(\"admE\",\"admi\"), (\"EmØ\",\"Emy\"), (\"pØ\",\"py\"), (\"plØ\",\"ply\")]\n",
    "\n",
    "pats = [patterns.Pattern(cells,forms) for forms in formlist]\n",
    "print(\"These patterns appear to have varying alternations :\")\n",
    "for p in pats:\n",
    "    print(p)\n",
    "print(\"\\nBut the change is similar, and we can merge them\")\n",
    "r = generalize.generalize_patterns(pats)\n",
    "print(r)"
   ]
  },
  {
   "cell_type": "markdown",
   "metadata": {},
   "source": [
    "This relies on a \"transformation\" function in `Segment` which finds pairs or segment with analogical relations :"
   ]
  },
  {
   "cell_type": "code",
   "execution_count": 16,
   "metadata": {
    "ExecuteTime": {
     "end_time": "2017-02-06T13:15:38.813900",
     "start_time": "2017-02-06T12:15:36.888Z"
    }
   },
   "outputs": [
    {
     "name": "stdout",
     "output_type": "stream",
     "text": [
      "('EOØ', 'iuy')\n",
      "('EOØ', 'iuy')\n"
     ]
    }
   ],
   "source": [
    "print(segments.Segment.transformation(\"E\",\"i\"))\n",
    "print(segments.Segment.transformation(\"Ø\",\"y\"))"
   ]
  },
  {
   "cell_type": "markdown",
   "metadata": {},
   "source": [
    "## Finding all patterns in a paradigm"
   ]
  },
  {
   "cell_type": "markdown",
   "metadata": {},
   "source": [
    "The `pattern` module provides functions to compute all relevant patterns in a paradigm:\n",
    "\n",
    "Four functions share the same interface (see the [API](../doc/representations.html#representations.patterns.find_auto_patterns)). \n",
    "\n",
    "\n",
    "* `patterns.find_levenshtein_patterns` and `patterns.find_phonsim_patterns`: All best alignments of forms are considered, according to either levenshtein distances or phonological similarity. The resulting competing patterns are chosen according to their coverage and accuracy. Patterns are generalized both in contexts and alternations as much as possible.\n",
    "* `patterns.find_suffixal_patterns`, `patterns.find_prefixal_patterns` and `patterns.find_baseline_patterns`: These functions differ regarding their alignment of forms. They generalize the contexts two by two incrementally but never the alternation"
   ]
  },
  {
   "cell_type": "code",
   "execution_count": 17,
   "metadata": {
    "ExecuteTime": {
     "end_time": "2017-02-06T13:15:38.814496",
     "start_time": "2017-02-06T12:15:36.892Z"
    }
   },
   "outputs": [
    {
     "data": {
      "text/html": [
       "<center><table border=\"1\" class=\"dataframe\">\n",
       "  <thead>\n",
       "    <tr style=\"text-align: right;\">\n",
       "      <th></th>\n",
       "      <th>prs.3.sg</th>\n",
       "      <th>prs.1.pl</th>\n",
       "      <th>prs.2.pl</th>\n",
       "    </tr>\n",
       "  </thead>\n",
       "  <tbody>\n",
       "    <tr>\n",
       "      <th>amener</th>\n",
       "      <td>amEn</td>\n",
       "      <td>amØnõ</td>\n",
       "      <td>amØnE</td>\n",
       "    </tr>\n",
       "    <tr>\n",
       "      <th>manger</th>\n",
       "      <td>mãʒ</td>\n",
       "      <td>mãʒõ</td>\n",
       "      <td>mãʒE</td>\n",
       "    </tr>\n",
       "    <tr>\n",
       "      <th>geler</th>\n",
       "      <td>ʒEl</td>\n",
       "      <td>ʒØlõ</td>\n",
       "      <td>ʒØlE</td>\n",
       "    </tr>\n",
       "    <tr>\n",
       "      <th>montrer</th>\n",
       "      <td>mõtʁ</td>\n",
       "      <td>mõtʁõ</td>\n",
       "      <td>mõtʁE</td>\n",
       "    </tr>\n",
       "    <tr>\n",
       "      <th>finir</th>\n",
       "      <td>fini</td>\n",
       "      <td>finisõ</td>\n",
       "      <td>finisE</td>\n",
       "    </tr>\n",
       "    <tr>\n",
       "      <th>enseigner</th>\n",
       "      <td>ãsEɲ</td>\n",
       "      <td>ãsEɲõ</td>\n",
       "      <td>ãsEɲE</td>\n",
       "    </tr>\n",
       "  </tbody>\n",
       "</table></center>"
      ],
      "text/plain": [
       "<IPython.core.display.HTML object>"
      ]
     },
     "execution_count": 17,
     "metadata": {},
     "output_type": "execute_result"
    }
   ],
   "source": [
    "paradigms = pd.DataFrame([[\"amEn\", \"amØnõ\", \"amØnE\"],\n",
    "                         [\"mãʒ\",\"mãʒõ\",\"mãʒE\"],\n",
    "                         [\"ʒEl\",\"ʒØlõ\",\"ʒØlE\"],\n",
    "                         [\"mõtʁ\",\"mõtʁõ\",\"mõtʁE\"],\n",
    "                         [\"fini\",\"finisõ\",\"finisE\"],\n",
    "                         [\"ãsEɲ\",\"ãsEɲõ\",\"ãsEɲE\"]],\n",
    "             columns=[\"prs.3.sg\", \"prs.1.pl\", \"prs.2.pl\"],\n",
    "             index=[\"amener\",\"manger\",\"geler\",\"montrer\",\"finir\",\"enseigner\"])\n",
    "\n",
    "HTML(paradigms.to_html())"
   ]
  },
  {
   "cell_type": "code",
   "execution_count": 18,
   "metadata": {
    "ExecuteTime": {
     "end_time": "2017-02-06T13:15:38.815080",
     "start_time": "2017-02-06T12:15:36.896Z"
    }
   },
   "outputs": [
    {
     "name": "stdout",
     "output_type": "stream",
     "text": [
      "▕██████████████████████████████████████████████████▏100% (3 of 3) complete\n",
      "\n"
     ]
    },
    {
     "data": {
      "text/html": [
       "<center><table border=\"1\" class=\"dataframe\">\n",
       "  <thead>\n",
       "    <tr style=\"text-align: right;\">\n",
       "      <th></th>\n",
       "      <th>(prs.3.sg, prs.1.pl)</th>\n",
       "      <th>(prs.3.sg, prs.2.pl)</th>\n",
       "      <th>(prs.1.pl, prs.2.pl)</th>\n",
       "    </tr>\n",
       "  </thead>\n",
       "  <tbody>\n",
       "    <tr>\n",
       "      <th>amener</th>\n",
       "      <td>E_ ⇌ Ø_ɔ̃ / a?[lmnvzɲʒ]_[ln]_</td>\n",
       "      <td>E_ ⇌ Ø_E / a?[lmnvzɲʒ]_[ln]_</td>\n",
       "      <td>ɔ̃ ⇌ E / [+cont]+X[flmnsvzŋɲʁʃʒ]_</td>\n",
       "    </tr>\n",
       "    <tr>\n",
       "      <th>manger</th>\n",
       "      <td>⇌ ɔ̃ / [mnɑ̃ɔ̃œ̃ɛ̃]?[+cont -haut][-haut][ŋɲʁʒ]_</td>\n",
       "      <td>⇌ E / [mnɑ̃ɔ̃œ̃ɛ̃]?[+cont -haut][-haut][ŋɲʁʒ]_</td>\n",
       "      <td>ɔ̃ ⇌ E / [+cont]+X[flmnsvzŋɲʁʃʒ]_</td>\n",
       "    </tr>\n",
       "    <tr>\n",
       "      <th>geler</th>\n",
       "      <td>E_ ⇌ Ø_ɔ̃ / a?[lmnvzɲʒ]_[ln]_</td>\n",
       "      <td>E_ ⇌ Ø_E / a?[lmnvzɲʒ]_[ln]_</td>\n",
       "      <td>ɔ̃ ⇌ E / [+cont]+X[flmnsvzŋɲʁʃʒ]_</td>\n",
       "    </tr>\n",
       "    <tr>\n",
       "      <th>montrer</th>\n",
       "      <td>⇌ ɔ̃ / [mnɑ̃ɔ̃œ̃ɛ̃]?[+cont -haut][-haut][ŋɲʁʒ]_</td>\n",
       "      <td>⇌ E / [mnɑ̃ɔ̃œ̃ɛ̃]?[+cont -haut][-haut][ŋɲʁʒ]_</td>\n",
       "      <td>ɔ̃ ⇌ E / [+cont]+X[flmnsvzŋɲʁʃʒ]_</td>\n",
       "    </tr>\n",
       "    <tr>\n",
       "      <th>finir</th>\n",
       "      <td>⇌ sɔ̃ / fini_</td>\n",
       "      <td>⇌ sE / fini_</td>\n",
       "      <td>ɔ̃ ⇌ E / [+cont]+X[flmnsvzŋɲʁʃʒ]_</td>\n",
       "    </tr>\n",
       "    <tr>\n",
       "      <th>enseigner</th>\n",
       "      <td>⇌ ɔ̃ / [mnɑ̃ɔ̃œ̃ɛ̃]?[+cont -haut][-haut][ŋɲʁʒ]_</td>\n",
       "      <td>⇌ E / [mnɑ̃ɔ̃œ̃ɛ̃]?[+cont -haut][-haut][ŋɲʁʒ]_</td>\n",
       "      <td>ɔ̃ ⇌ E / [+cont]+X[flmnsvzŋɲʁʃʒ]_</td>\n",
       "    </tr>\n",
       "  </tbody>\n",
       "</table></center>"
      ],
      "text/plain": [
       "<IPython.core.display.HTML object>"
      ]
     },
     "execution_count": 18,
     "metadata": {},
     "output_type": "execute_result"
    }
   ],
   "source": [
    "p,d = patterns.find_levenshtein_patterns(paradigms)\n",
    "HTML(p.to_html())"
   ]
  },
  {
   "cell_type": "markdown",
   "metadata": {},
   "source": [
    "Four other functions are also available to find alternations:"
   ]
  },
  {
   "cell_type": "markdown",
   "metadata": {},
   "source": [
    "* `patterns.find_endings` finds endings by removing the common prefix to each row. It does not use `Patterns` and returns a DataFrame of strings. `patterns.find_endings_pairs` does the same thing but gathers the endings two by two so the output has one column for each pairs on the paradigm's columns and looks like alternation patterns.\n",
    "* `patterns.find_global_alternations_pairs` uses `Pattern` with all the forms of each row as an input, then distributes the alternation in pairs. It differs from `find_endings` and can find any number of changes in left aligned forms.\n",
    "* `patterns.find_local_alternations_pairs` does the same but with pairs of forms as its input. It is similar to `find_suffixal_patterns` followed by extracting just the alternation string from each pattern."
   ]
  },
  {
   "cell_type": "code",
   "execution_count": 19,
   "metadata": {
    "ExecuteTime": {
     "end_time": "2017-02-06T13:15:38.815649",
     "start_time": "2017-02-06T12:15:36.901Z"
    }
   },
   "outputs": [
    {
     "name": "stdout",
     "output_type": "stream",
     "text": [
      "▕██████████████████████████████████████████████████▏100% (6 of 6) complete\n",
      "\n"
     ]
    },
    {
     "data": {
      "text/html": [
       "<center><table border=\"1\" class=\"dataframe\">\n",
       "  <thead>\n",
       "    <tr style=\"text-align: right;\">\n",
       "      <th></th>\n",
       "      <th>prs.3.sg</th>\n",
       "      <th>prs.1.pl</th>\n",
       "      <th>prs.2.pl</th>\n",
       "    </tr>\n",
       "  </thead>\n",
       "  <tbody>\n",
       "    <tr>\n",
       "      <th>amener</th>\n",
       "      <td>En</td>\n",
       "      <td>Ønõ</td>\n",
       "      <td>ØnE</td>\n",
       "    </tr>\n",
       "    <tr>\n",
       "      <th>manger</th>\n",
       "      <td></td>\n",
       "      <td>õ</td>\n",
       "      <td>E</td>\n",
       "    </tr>\n",
       "    <tr>\n",
       "      <th>geler</th>\n",
       "      <td>El</td>\n",
       "      <td>Ølõ</td>\n",
       "      <td>ØlE</td>\n",
       "    </tr>\n",
       "    <tr>\n",
       "      <th>montrer</th>\n",
       "      <td></td>\n",
       "      <td>õ</td>\n",
       "      <td>E</td>\n",
       "    </tr>\n",
       "    <tr>\n",
       "      <th>finir</th>\n",
       "      <td></td>\n",
       "      <td>sõ</td>\n",
       "      <td>sE</td>\n",
       "    </tr>\n",
       "    <tr>\n",
       "      <th>enseigner</th>\n",
       "      <td></td>\n",
       "      <td>õ</td>\n",
       "      <td>E</td>\n",
       "    </tr>\n",
       "  </tbody>\n",
       "</table></center>"
      ],
      "text/plain": [
       "<IPython.core.display.HTML object>"
      ]
     },
     "execution_count": 19,
     "metadata": {},
     "output_type": "execute_result"
    }
   ],
   "source": [
    "p = patterns.find_endings(paradigms)\n",
    "HTML(p.to_html())"
   ]
  },
  {
   "cell_type": "markdown",
   "metadata": {},
   "source": [
    "* [Back to the documentation's index ](../doc/index.html)"
   ]
  }
 ],
 "metadata": {
  "kernelspec": {
   "display_name": "Python 3",
   "language": "python",
   "name": "python3"
  },
  "language_info": {
   "codemirror_mode": {
    "name": "ipython",
    "version": 3
   },
   "file_extension": ".py",
   "mimetype": "text/x-python",
   "name": "python",
   "nbconvert_exporter": "python",
   "pygments_lexer": "ipython3",
   "version": "3.5.2"
  },
  "latex_envs": {
   "LaTeX_envs_menu_present": true,
   "autocomplete": true,
   "bibliofile": "biblio.bib",
   "cite_by": "apalike",
   "current_citInitial": 1,
   "eqLabelWithNumbers": true,
   "eqNumInitial": 1,
   "hotkeys": {
    "equation": "Ctrl-E",
    "itemize": "Ctrl-I"
   },
   "labels_anchors": false,
   "latex_user_defs": false,
   "report_style_numbering": false,
   "user_envs_cfg": false
  },
  "toc": {
   "colors": {
    "hover_highlight": "#DAA520",
    "running_highlight": "#FF0000",
    "selected_highlight": "#FFD700"
   },
   "moveMenuLeft": true,
   "nav_menu": {
    "height": "142px",
    "width": "252px"
   },
   "navigate_menu": true,
   "number_sections": true,
   "sideBar": true,
   "threshold": 4,
   "toc_cell": false,
   "toc_section_display": "block",
   "toc_window_display": false,
   "widenNotebook": false
  }
 },
 "nbformat": 4,
 "nbformat_minor": 1
}
