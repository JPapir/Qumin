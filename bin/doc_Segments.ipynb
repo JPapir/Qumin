{
 "cells": [
  {
   "cell_type": "markdown",
   "metadata": {},
   "source": [
    "<img src='qumin.png' alt='Quantitative Modeling of inflection' >"
   ]
  },
  {
   "cell_type": "markdown",
   "metadata": {},
   "source": [
    "# Phonological segments"
   ]
  },
  {
   "cell_type": "markdown",
   "metadata": {},
   "source": [
    "We model the set of phonological segments as a hierarchy of natural classes. Each node of the hierarchy is a pair of an extent (a set of phonological segments) and an intent (the features common to all the segments). The `Segment` class represents a node of this hierarchy, either a single segment or a natural class."
   ]
  },
  {
   "cell_type": "code",
   "execution_count": 1,
   "metadata": {
    "ExecuteTime": {
     "end_time": "2016-11-11T01:30:23.376360",
     "start_time": "2016-11-11T01:30:23.008030"
    }
   },
   "outputs": [
    {
     "name": "stderr",
     "output_type": "stream",
     "text": [
      "/usr/local/lib/python3.4/dist-packages/matplotlib/__init__.py:913: UserWarning: axes.color_cycle is deprecated and replaced with axes.prop_cycle; please use the latter.\n",
      "  warnings.warn(self.msg_depr % (key, alt_key))\n"
     ]
    },
    {
     "name": "stdout",
     "output_type": "stream",
     "text": [
      "Populating the interactive namespace from numpy and matplotlib\n"
     ]
    }
   ],
   "source": [
    "from representations import segments\n",
    "%pylab inline"
   ]
  },
  {
   "cell_type": "markdown",
   "metadata": {},
   "source": [
    "## Segment pool"
   ]
  },
  {
   "cell_type": "markdown",
   "metadata": {},
   "source": [
    "We read the segment from an external file. The file's format is described in the [Data Shape](../doc/datashape.html) section of the documentation.\n",
    "\n",
    "Internally, Segments denoted by multiple characters (such as diphtongues) are replaced each by a unique placeholder character. Segments are also normalised : if multiple lines define the same features, only one of them is kept.\n",
    "\n",
    "In our french data a few oppositions are neutralized this way : [e] and [ɛ] are normalized as [E], [o] and [ɔ] as [O], and [ø] and [œ] as [Ø]. The feature file defines the same features for each triplet.\n",
    "\n",
    "\n",
    "We print below the list of a few segments and natural classes inferred, with the minimum features that define them:\n"
   ]
  },
  {
   "cell_type": "code",
   "execution_count": 2,
   "metadata": {
    "ExecuteTime": {
     "end_time": "2016-11-11T01:30:23.915767",
     "start_time": "2016-11-11T01:30:23.377423"
    }
   },
   "outputs": [
    {
     "name": "stdout",
     "output_type": "stream",
     "text": [
      "Reading table\n",
      "Aliasing multi-chars segments\n",
      "Normalizing identical segments\n",
      "j = [+son -syl -cons +cont -nas +haut -bas -arr -rond -ant -cor +vois +rel.ret.]\n",
      "f = [-son -syl +cons +cont -nas -haut -arr +ant -cor -vois +rel.ret.]\n",
      "p = [-son -syl +cons -cont -nas -haut -arr +ant -cor -vois -rel.ret.]\n",
      "ɥ = [+son -syl -cons +cont -nas +haut -bas -arr +rond -ant -cor +vois +rel.ret.]\n",
      "ɲ = [+son -syl +cons +cont +nas +haut -arr -ant -cor +vois -rel.ret.]\n",
      "b = [-son -syl +cons -cont -nas -haut -arr +ant -cor +vois -rel.ret.]\n",
      "w = [+son -syl -cons +cont -nas +haut -bas +arr +rond -ant -cor +vois +rel.ret.]\n",
      "œ̃ (Œ) = [+son +syl -cons +cont +nas -haut +bas -arr +rond +vois +rel.ret.]\n",
      "k = [-son -syl +cons -cont -nas +haut +arr -ant -cor -vois -rel.ret.]\n",
      "ŋ = [+son -syl +cons +cont +nas +haut +arr -ant -cor +vois -rel.ret.] \n",
      "... 406 other segments ...\n",
      " [EOaijluwyØɑ̃ɔ̃œ̃ɥʁɛ̃] ([EOaijluwyØãõŒɥʁꞓ]) = [+son +cont +vois +rel.ret.]\n",
      "[EOaflmnsvzØɑ̃ɔ̃œ̃ʁɛ̃] ([EOaflmnsvzØãõŒʁꞓ]) = [+cont -haut]\n",
      "[EbdijlmnvyzØœ̃ɥɲʒɛ̃] ([EbdijlmnvyzØŒɥɲʒꞓ]) = [-arr +vois]\n",
      "[EbdfijlpstvyzØɥʃʒ] = [-nas -arr]\n",
      "[bdfgjklpstvwzɥʁʃʒ] = [-syl -nas]\n",
      "[EOabdgijluvwyzØɥʁʒ] = [-nas +vois]\n",
      "[bdfgklmnpstvzŋɲʁʃʒ] = C\n",
      "[EfijlmnsvyzØœ̃ɥɲʃʒɛ̃] ([EfijlmnsvyzØŒɥɲʃʒꞓ]) = [+cont -arr]\n",
      "[EOafijlsuvwyzØɥʁʃʒ] = [+cont -nas +rel.ret.]\n",
      "[EOaijluvwyzØɑ̃ɔ̃œ̃ɥʁʒɛ̃] ([EOaijluvwyzØãõŒɥʁʒꞓ]) = [+cont +vois +rel.ret.]\n",
      "[EOaijlmnuwyØɑ̃ɔ̃ŋœ̃ɥɲʁɛ̃] ([EOaijlmnuwyØãõŋŒɥɲʁꞓ]) = [+son]\n",
      "[EOabdflmnpstvzØɑ̃ɔ̃œ̃ʁɛ̃] ([EOabdflmnpstvzØãõŒʁꞓ]) = [-haut]\n",
      "[bdfgjklmnpstvwzŋɥɲʁʃʒ] = [-syl]\n",
      "[EOafijlsuvwyzØɑ̃ɔ̃œ̃ɥʁʃʒɛ̃] ([EOafijlsuvwyzØãõŒɥʁʃʒꞓ]) = [+rel.ret.]\n",
      "[EbdfijlmnpstvyzØœ̃ɥɲʃʒɛ̃] ([EbdfijlmnpstvyzØŒɥɲʃʒꞓ]) = [-arr]\n",
      "[EOaijlmnuvwyzØɑ̃ɔ̃ŋœ̃ɥɲʁʒɛ̃] ([EOaijlmnuvwyzØãõŋŒɥɲʁʒꞓ]) = [+cont +vois]\n",
      "[EOabdfgijklpstuvwyzØɥʁʃʒ] = [-nas]\n",
      "[EOabdgijlmnuvwyzØɑ̃ɔ̃ŋœ̃ɥɲʁʒɛ̃] ([EOabdgijlmnuvwyzØãõŋŒɥɲʁʒꞓ]) = [+vois]\n",
      "[EOafijlmnsuvwyzØɑ̃ɔ̃ŋœ̃ɥɲʁʃʒɛ̃] ([EOafijlmnsuvwyzØãõŋŒɥɲʁʃʒꞓ]) = [+cont]\n",
      "[EOabdfgijklmnpstuvwyzØɑ̃ɔ̃ŋœ̃ɥɲʁʃʒɛ̃] ([EOabdfgijklmnpstuvwyzØãõŋŒɥɲʁʃʒꞓ]) = X\n"
     ]
    }
   ],
   "source": [
    "features_file_name = \"../Data/Vlexique/frenchipa.csv\"\n",
    "segments.initialize(features_file_name,sep=\"\\t\")\n",
    "pool = segments.Segment.show_pool().split(\"\\n\")\n",
    "print(\"\\n\".join(pool[:10]),\n",
    "      \"\\n... {} other segments ...\\n\".format(len(pool)-30),\n",
    "      \"\\n\".join(pool[-20:]))\n"
   ]
  },
  {
   "cell_type": "markdown",
   "metadata": {},
   "source": [
    "## Getting a segment"
   ]
  },
  {
   "cell_type": "markdown",
   "metadata": {},
   "source": [
    "In most of the scripts, segments are represented by strings. To get a `Segment` object from the string, use the class function `Segment.get()` on a string representing either the segment or natural classe's chars, or its features.\n",
    "\n",
    "Note that \"V\" and \"C\" were defined in the segment file as shorthands for vowels and consonants, and because of that these description replace the features when printing the corresponding `Segment`s."
   ]
  },
  {
   "cell_type": "code",
   "execution_count": 3,
   "metadata": {
    "ExecuteTime": {
     "end_time": "2016-11-11T01:30:23.921191",
     "start_time": "2016-11-11T01:30:23.917122"
    }
   },
   "outputs": [
    {
     "name": "stdout",
     "output_type": "stream",
     "text": [
      "a = [+son +syl -cons +cont -nas -haut +bas +arr -rond +vois +rel.ret.]\n",
      "[EOaiuyØɑ̃ɔ̃œ̃ɛ̃] ([EOaiuyØãõŒꞓ]) = V\n",
      "[bdfgklmnpstvzŋɲʁʃʒ] = C\n"
     ]
    }
   ],
   "source": [
    "a = segments.Segment.get(\"a\")\n",
    "print(repr(a))\n",
    "example_segment = segments.Segment.get(\"iEØõã\")\n",
    "print(repr(example_segment))\n",
    "example_segment = segments.Segment.get((\"+cons\",))\n",
    "print(repr(example_segment))"
   ]
  },
  {
   "cell_type": "markdown",
   "metadata": {},
   "source": [
    "By calling the function with \"iEØõã\" we obtained their smallest common natural class, which is \"[EOaiuyØɑ̃ɔ̃œ̃ɛ̃ə]\". Writing natural classes in brackets wil allow us to use them as regex character classes (matching any of the characters in the brackets).\n",
    "\n",
    "Segments have an alias and a set of features:"
   ]
  },
  {
   "cell_type": "code",
   "execution_count": 4,
   "metadata": {
    "ExecuteTime": {
     "end_time": "2016-11-11T01:30:23.945386",
     "start_time": "2016-11-11T01:30:23.922531"
    }
   },
   "outputs": [
    {
     "name": "stdout",
     "output_type": "stream",
     "text": [
      "alias for the segment 'a' : a\n",
      "features for the segment 'a' : {'-rond', '+arr', '+vois', '-haut', '-cons', '+syl', '-nas', '+son', '+cont', '+rel.ret.', '+bas'}\n"
     ]
    }
   ],
   "source": [
    "print(\"alias for the segment 'a' :\", a.alias)\n",
    "print(\"features for the segment 'a' :\", a.features)"
   ]
  },
  {
   "cell_type": "markdown",
   "metadata": {},
   "source": [
    "## Intersection of Segments"
   ]
  },
  {
   "cell_type": "markdown",
   "metadata": {},
   "source": [
    "We can generalize two segments to find their smallest common natural class:"
   ]
  },
  {
   "cell_type": "code",
   "execution_count": 5,
   "metadata": {
    "ExecuteTime": {
     "end_time": "2016-11-11T01:30:23.999418",
     "start_time": "2016-11-11T01:30:23.971624"
    }
   },
   "outputs": [
    {
     "name": "stdout",
     "output_type": "stream",
     "text": [
      "intersect(\"gtf\") =  [bdfgkpstvzʃʒ]\n"
     ]
    }
   ],
   "source": [
    "print(\"intersect(\\\"gtf\\\") = \",segments.Segment.intersect(\"gtf\"))"
   ]
  },
  {
   "cell_type": "markdown",
   "metadata": {},
   "source": [
    "* [Back to the documentation's index ](../doc/index.html)"
   ]
  }
 ],
 "metadata": {
  "kernelspec": {
   "display_name": "Python 3",
   "language": "python",
   "name": "python3"
  },
  "language_info": {
   "codemirror_mode": {
    "name": "ipython",
    "version": 3
   },
   "file_extension": ".py",
   "mimetype": "text/x-python",
   "name": "python",
   "nbconvert_exporter": "python",
   "pygments_lexer": "ipython3",
   "version": "3.4.3"
  },
  "latex_envs": {
   "LaTeX_envs_menu_present": true,
   "autocomplete": true,
   "bibliofile": "biblio.bib",
   "cite_by": "apalike",
   "current_citInitial": 1,
   "eqLabelWithNumbers": true,
   "eqNumInitial": 1,
   "hotkeys": {
    "equation": "Ctrl-E",
    "itemize": "Ctrl-I"
   },
   "labels_anchors": false,
   "latex_user_defs": false,
   "report_style_numbering": false,
   "user_envs_cfg": false
  },
  "toc": {
   "colors": {
    "hover_highlight": "#DAA520",
    "running_highlight": "#FF0000",
    "selected_highlight": "#FFD700"
   },
   "moveMenuLeft": true,
   "nav_menu": {
    "height": "87px",
    "width": "252px"
   },
   "navigate_menu": true,
   "number_sections": true,
   "sideBar": true,
   "threshold": 4,
   "toc_cell": false,
   "toc_section_display": "block",
   "toc_window_display": false,
   "widenNotebook": false
  }
 },
 "nbformat": 4,
 "nbformat_minor": 1
}
